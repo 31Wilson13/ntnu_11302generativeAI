{
  "nbformat": 4,
  "nbformat_minor": 0,
  "metadata": {
    "anaconda-cloud": {},
    "colab": {
      "provenance": [],
      "collapsed_sections": [
        "fOPj5Mh50Avk",
        "mQmajlcm0Avl",
        "m41UZZdF0Avm",
        "5znBU0DV0Avo",
        "kV3613iy0Avp"
      ],
      "include_colab_link": true
    },
    "kernelspec": {
      "display_name": "Python 3",
      "name": "python3"
    },
    "language_info": {
      "name": "python"
    },
    "widgets": {
      "application/vnd.jupyter.widget-state+json": {
        "c7b16a503d0d42a3a095e06e11121ac9": {
          "model_module": "@jupyter-widgets/controls",
          "model_name": "VBoxModel",
          "model_module_version": "1.5.0",
          "state": {
            "_dom_classes": [
              "widget-interact"
            ],
            "_model_module": "@jupyter-widgets/controls",
            "_model_module_version": "1.5.0",
            "_model_name": "VBoxModel",
            "_view_count": null,
            "_view_module": "@jupyter-widgets/controls",
            "_view_module_version": "1.5.0",
            "_view_name": "VBoxView",
            "box_style": "",
            "children": [
              "IPY_MODEL_57718872145141ab81e4559f4b345dfe",
              "IPY_MODEL_00c1b000541b4bc29adacf484c6dd30d",
              "IPY_MODEL_0512dff409954a2fac29804675fe3062"
            ],
            "layout": "IPY_MODEL_c41400bcad344af499b4a1be648aa016"
          }
        },
        "57718872145141ab81e4559f4b345dfe": {
          "model_module": "@jupyter-widgets/controls",
          "model_name": "IntSliderModel",
          "model_module_version": "1.5.0",
          "state": {
            "_dom_classes": [],
            "_model_module": "@jupyter-widgets/controls",
            "_model_module_version": "1.5.0",
            "_model_name": "IntSliderModel",
            "_view_count": null,
            "_view_module": "@jupyter-widgets/controls",
            "_view_module_version": "1.5.0",
            "_view_name": "IntSliderView",
            "continuous_update": true,
            "description": "測試編號",
            "description_tooltip": null,
            "disabled": false,
            "layout": "IPY_MODEL_3b3806c527874ec09c2f73d75ebc34d5",
            "max": 9999,
            "min": 0,
            "orientation": "horizontal",
            "readout": true,
            "readout_format": "d",
            "step": 1,
            "style": "IPY_MODEL_60a4c2526a0e46f8a482b64a89e32b63",
            "value": 1474
          }
        },
        "00c1b000541b4bc29adacf484c6dd30d": {
          "model_module": "@jupyter-widgets/controls",
          "model_name": "ButtonModel",
          "model_module_version": "1.5.0",
          "state": {
            "_dom_classes": [],
            "_model_module": "@jupyter-widgets/controls",
            "_model_module_version": "1.5.0",
            "_model_name": "ButtonModel",
            "_view_count": null,
            "_view_module": "@jupyter-widgets/controls",
            "_view_module_version": "1.5.0",
            "_view_name": "ButtonView",
            "button_style": "",
            "description": "Run Interact",
            "disabled": false,
            "icon": "",
            "layout": "IPY_MODEL_7c5b9f8c2c0c4cb1b0330043f9c7725d",
            "style": "IPY_MODEL_c5f2f67221014b53aebac96cd9ce9f42",
            "tooltip": ""
          }
        },
        "0512dff409954a2fac29804675fe3062": {
          "model_module": "@jupyter-widgets/output",
          "model_name": "OutputModel",
          "model_module_version": "1.0.0",
          "state": {
            "_dom_classes": [],
            "_model_module": "@jupyter-widgets/output",
            "_model_module_version": "1.0.0",
            "_model_name": "OutputModel",
            "_view_count": null,
            "_view_module": "@jupyter-widgets/output",
            "_view_module_version": "1.0.0",
            "_view_name": "OutputView",
            "layout": "IPY_MODEL_9eca344e731c472b90550ecff64dfa6e",
            "msg_id": "",
            "outputs": [
              {
                "output_type": "stream",
                "name": "stdout",
                "text": [
                  "神經網路判斷為: 8\n"
                ]
              },
              {
                "output_type": "display_data",
                "data": {
                  "text/plain": "<Figure size 640x480 with 1 Axes>",
                  "image/png": "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\n"
                },
                "metadata": {}
              }
            ]
          }
        },
        "c41400bcad344af499b4a1be648aa016": {
          "model_module": "@jupyter-widgets/base",
          "model_name": "LayoutModel",
          "model_module_version": "1.2.0",
          "state": {
            "_model_module": "@jupyter-widgets/base",
            "_model_module_version": "1.2.0",
            "_model_name": "LayoutModel",
            "_view_count": null,
            "_view_module": "@jupyter-widgets/base",
            "_view_module_version": "1.2.0",
            "_view_name": "LayoutView",
            "align_content": null,
            "align_items": null,
            "align_self": null,
            "border": null,
            "bottom": null,
            "display": null,
            "flex": null,
            "flex_flow": null,
            "grid_area": null,
            "grid_auto_columns": null,
            "grid_auto_flow": null,
            "grid_auto_rows": null,
            "grid_column": null,
            "grid_gap": null,
            "grid_row": null,
            "grid_template_areas": null,
            "grid_template_columns": null,
            "grid_template_rows": null,
            "height": null,
            "justify_content": null,
            "justify_items": null,
            "left": null,
            "margin": null,
            "max_height": null,
            "max_width": null,
            "min_height": null,
            "min_width": null,
            "object_fit": null,
            "object_position": null,
            "order": null,
            "overflow": null,
            "overflow_x": null,
            "overflow_y": null,
            "padding": null,
            "right": null,
            "top": null,
            "visibility": null,
            "width": null
          }
        },
        "3b3806c527874ec09c2f73d75ebc34d5": {
          "model_module": "@jupyter-widgets/base",
          "model_name": "LayoutModel",
          "model_module_version": "1.2.0",
          "state": {
            "_model_module": "@jupyter-widgets/base",
            "_model_module_version": "1.2.0",
            "_model_name": "LayoutModel",
            "_view_count": null,
            "_view_module": "@jupyter-widgets/base",
            "_view_module_version": "1.2.0",
            "_view_name": "LayoutView",
            "align_content": null,
            "align_items": null,
            "align_self": null,
            "border": null,
            "bottom": null,
            "display": null,
            "flex": null,
            "flex_flow": null,
            "grid_area": null,
            "grid_auto_columns": null,
            "grid_auto_flow": null,
            "grid_auto_rows": null,
            "grid_column": null,
            "grid_gap": null,
            "grid_row": null,
            "grid_template_areas": null,
            "grid_template_columns": null,
            "grid_template_rows": null,
            "height": null,
            "justify_content": null,
            "justify_items": null,
            "left": null,
            "margin": null,
            "max_height": null,
            "max_width": null,
            "min_height": null,
            "min_width": null,
            "object_fit": null,
            "object_position": null,
            "order": null,
            "overflow": null,
            "overflow_x": null,
            "overflow_y": null,
            "padding": null,
            "right": null,
            "top": null,
            "visibility": null,
            "width": null
          }
        },
        "60a4c2526a0e46f8a482b64a89e32b63": {
          "model_module": "@jupyter-widgets/controls",
          "model_name": "SliderStyleModel",
          "model_module_version": "1.5.0",
          "state": {
            "_model_module": "@jupyter-widgets/controls",
            "_model_module_version": "1.5.0",
            "_model_name": "SliderStyleModel",
            "_view_count": null,
            "_view_module": "@jupyter-widgets/base",
            "_view_module_version": "1.2.0",
            "_view_name": "StyleView",
            "description_width": "",
            "handle_color": null
          }
        },
        "7c5b9f8c2c0c4cb1b0330043f9c7725d": {
          "model_module": "@jupyter-widgets/base",
          "model_name": "LayoutModel",
          "model_module_version": "1.2.0",
          "state": {
            "_model_module": "@jupyter-widgets/base",
            "_model_module_version": "1.2.0",
            "_model_name": "LayoutModel",
            "_view_count": null,
            "_view_module": "@jupyter-widgets/base",
            "_view_module_version": "1.2.0",
            "_view_name": "LayoutView",
            "align_content": null,
            "align_items": null,
            "align_self": null,
            "border": null,
            "bottom": null,
            "display": null,
            "flex": null,
            "flex_flow": null,
            "grid_area": null,
            "grid_auto_columns": null,
            "grid_auto_flow": null,
            "grid_auto_rows": null,
            "grid_column": null,
            "grid_gap": null,
            "grid_row": null,
            "grid_template_areas": null,
            "grid_template_columns": null,
            "grid_template_rows": null,
            "height": null,
            "justify_content": null,
            "justify_items": null,
            "left": null,
            "margin": null,
            "max_height": null,
            "max_width": null,
            "min_height": null,
            "min_width": null,
            "object_fit": null,
            "object_position": null,
            "order": null,
            "overflow": null,
            "overflow_x": null,
            "overflow_y": null,
            "padding": null,
            "right": null,
            "top": null,
            "visibility": null,
            "width": null
          }
        },
        "c5f2f67221014b53aebac96cd9ce9f42": {
          "model_module": "@jupyter-widgets/controls",
          "model_name": "ButtonStyleModel",
          "model_module_version": "1.5.0",
          "state": {
            "_model_module": "@jupyter-widgets/controls",
            "_model_module_version": "1.5.0",
            "_model_name": "ButtonStyleModel",
            "_view_count": null,
            "_view_module": "@jupyter-widgets/base",
            "_view_module_version": "1.2.0",
            "_view_name": "StyleView",
            "button_color": null,
            "font_weight": ""
          }
        },
        "9eca344e731c472b90550ecff64dfa6e": {
          "model_module": "@jupyter-widgets/base",
          "model_name": "LayoutModel",
          "model_module_version": "1.2.0",
          "state": {
            "_model_module": "@jupyter-widgets/base",
            "_model_module_version": "1.2.0",
            "_model_name": "LayoutModel",
            "_view_count": null,
            "_view_module": "@jupyter-widgets/base",
            "_view_module_version": "1.2.0",
            "_view_name": "LayoutView",
            "align_content": null,
            "align_items": null,
            "align_self": null,
            "border": null,
            "bottom": null,
            "display": null,
            "flex": null,
            "flex_flow": null,
            "grid_area": null,
            "grid_auto_columns": null,
            "grid_auto_flow": null,
            "grid_auto_rows": null,
            "grid_column": null,
            "grid_gap": null,
            "grid_row": null,
            "grid_template_areas": null,
            "grid_template_columns": null,
            "grid_template_rows": null,
            "height": null,
            "justify_content": null,
            "justify_items": null,
            "left": null,
            "margin": null,
            "max_height": null,
            "max_width": null,
            "min_height": null,
            "min_width": null,
            "object_fit": null,
            "object_position": null,
            "order": null,
            "overflow": null,
            "overflow_x": null,
            "overflow_y": null,
            "padding": null,
            "right": null,
            "top": null,
            "visibility": null,
            "width": null
          }
        }
      }
    },
    "accelerator": "GPU"
  },
  "cells": [
    {
      "cell_type": "markdown",
      "metadata": {
        "id": "view-in-github",
        "colab_type": "text"
      },
      "source": [
        "<a href=\"https://colab.research.google.com/github/31Wilson13/ntnu_11302generativeAI/blob/main/HW2/%E5%8F%B0%E5%B8%AB%E5%A4%A7_612K0031C_AI%E6%89%80%E7%A2%A9%E4%BA%8C_%E7%B0%A1%E7%85%92%E5%93%B2_%E4%BD%9C%E6%A5%AD%E4%BA%8C.ipynb\" target=\"_parent\"><img src=\"https://colab.research.google.com/assets/colab-badge.svg\" alt=\"Open In Colab\"/></a>"
      ]
    },
    {
      "cell_type": "markdown",
      "source": [
        "# 作業目標：開發一個簡易的神經網路模型來對MNIST資料集進行手寫數字識別"
      ],
      "metadata": {
        "id": "_23L-_s5w9vW"
      }
    },
    {
      "cell_type": "markdown",
      "source": [
        "## 模型中各層神經元的數量設置"
      ],
      "metadata": {
        "id": "lLMcPiR9xJTr"
      }
    },
    {
      "cell_type": "markdown",
      "metadata": {
        "id": "peN7YRgV0Ave"
      },
      "source": [
        "設計理念為嘗試打造一個多層的神經網路：第一層隱藏層包含30個神經元，第二層隱藏層包含20個神經元，第三層隱藏層包含10個神經元，第四層隱藏層包含20個神經元，第五層隱藏層包含30個神經元，最後輸出層則是對應有10個數字，因此設為10個神經元"
      ]
    },
    {
      "cell_type": "code",
      "source": [
        "N1 = 30\n",
        "N2 = 20\n",
        "N3 = 10\n",
        "N4 = 20\n",
        "N5 = 30\n",
        "N6 = 10"
      ],
      "metadata": {
        "id": "4Nh6oQpK2Y5W"
      },
      "execution_count": 1,
      "outputs": []
    },
    {
      "cell_type": "markdown",
      "metadata": {
        "id": "RkYdA5re0Ave"
      },
      "source": [
        "## 1. 讀入套件\n",
        "\n",
        "此套件用於最終的互動式成果展現"
      ]
    },
    {
      "cell_type": "code",
      "source": [
        "!pip install gradio"
      ],
      "metadata": {
        "colab": {
          "base_uri": "https://localhost:8080/"
        },
        "id": "fdIz5z2klW4S",
        "outputId": "d6c3a3ea-55ca-4dc8-b47f-3f29ba808bd9"
      },
      "execution_count": 2,
      "outputs": [
        {
          "output_type": "stream",
          "name": "stdout",
          "text": [
            "Collecting gradio\n",
            "  Downloading gradio-5.20.1-py3-none-any.whl.metadata (16 kB)\n",
            "Collecting aiofiles<24.0,>=22.0 (from gradio)\n",
            "  Downloading aiofiles-23.2.1-py3-none-any.whl.metadata (9.7 kB)\n",
            "Requirement already satisfied: anyio<5.0,>=3.0 in /usr/local/lib/python3.11/dist-packages (from gradio) (3.7.1)\n",
            "Collecting fastapi<1.0,>=0.115.2 (from gradio)\n",
            "  Downloading fastapi-0.115.11-py3-none-any.whl.metadata (27 kB)\n",
            "Collecting ffmpy (from gradio)\n",
            "  Downloading ffmpy-0.5.0-py3-none-any.whl.metadata (3.0 kB)\n",
            "Collecting gradio-client==1.7.2 (from gradio)\n",
            "  Downloading gradio_client-1.7.2-py3-none-any.whl.metadata (7.1 kB)\n",
            "Collecting groovy~=0.1 (from gradio)\n",
            "  Downloading groovy-0.1.2-py3-none-any.whl.metadata (6.1 kB)\n",
            "Requirement already satisfied: httpx>=0.24.1 in /usr/local/lib/python3.11/dist-packages (from gradio) (0.28.1)\n",
            "Requirement already satisfied: huggingface-hub>=0.28.1 in /usr/local/lib/python3.11/dist-packages (from gradio) (0.28.1)\n",
            "Requirement already satisfied: jinja2<4.0 in /usr/local/lib/python3.11/dist-packages (from gradio) (3.1.5)\n",
            "Collecting markupsafe~=2.0 (from gradio)\n",
            "  Downloading MarkupSafe-2.1.5-cp311-cp311-manylinux_2_17_x86_64.manylinux2014_x86_64.whl.metadata (3.0 kB)\n",
            "Requirement already satisfied: numpy<3.0,>=1.0 in /usr/local/lib/python3.11/dist-packages (from gradio) (1.26.4)\n",
            "Requirement already satisfied: orjson~=3.0 in /usr/local/lib/python3.11/dist-packages (from gradio) (3.10.15)\n",
            "Requirement already satisfied: packaging in /usr/local/lib/python3.11/dist-packages (from gradio) (24.2)\n",
            "Requirement already satisfied: pandas<3.0,>=1.0 in /usr/local/lib/python3.11/dist-packages (from gradio) (2.2.2)\n",
            "Requirement already satisfied: pillow<12.0,>=8.0 in /usr/local/lib/python3.11/dist-packages (from gradio) (11.1.0)\n",
            "Requirement already satisfied: pydantic>=2.0 in /usr/local/lib/python3.11/dist-packages (from gradio) (2.10.6)\n",
            "Collecting pydub (from gradio)\n",
            "  Downloading pydub-0.25.1-py2.py3-none-any.whl.metadata (1.4 kB)\n",
            "Collecting python-multipart>=0.0.18 (from gradio)\n",
            "  Downloading python_multipart-0.0.20-py3-none-any.whl.metadata (1.8 kB)\n",
            "Requirement already satisfied: pyyaml<7.0,>=5.0 in /usr/local/lib/python3.11/dist-packages (from gradio) (6.0.2)\n",
            "Collecting ruff>=0.9.3 (from gradio)\n",
            "  Downloading ruff-0.9.10-py3-none-manylinux_2_17_x86_64.manylinux2014_x86_64.whl.metadata (25 kB)\n",
            "Collecting safehttpx<0.2.0,>=0.1.6 (from gradio)\n",
            "  Downloading safehttpx-0.1.6-py3-none-any.whl.metadata (4.2 kB)\n",
            "Collecting semantic-version~=2.0 (from gradio)\n",
            "  Downloading semantic_version-2.10.0-py2.py3-none-any.whl.metadata (9.7 kB)\n",
            "Collecting starlette<1.0,>=0.40.0 (from gradio)\n",
            "  Downloading starlette-0.46.1-py3-none-any.whl.metadata (6.2 kB)\n",
            "Collecting tomlkit<0.14.0,>=0.12.0 (from gradio)\n",
            "  Downloading tomlkit-0.13.2-py3-none-any.whl.metadata (2.7 kB)\n",
            "Requirement already satisfied: typer<1.0,>=0.12 in /usr/local/lib/python3.11/dist-packages (from gradio) (0.15.2)\n",
            "Requirement already satisfied: typing-extensions~=4.0 in /usr/local/lib/python3.11/dist-packages (from gradio) (4.12.2)\n",
            "Collecting uvicorn>=0.14.0 (from gradio)\n",
            "  Downloading uvicorn-0.34.0-py3-none-any.whl.metadata (6.5 kB)\n",
            "Requirement already satisfied: fsspec in /usr/local/lib/python3.11/dist-packages (from gradio-client==1.7.2->gradio) (2024.10.0)\n",
            "Requirement already satisfied: websockets<16.0,>=10.0 in /usr/local/lib/python3.11/dist-packages (from gradio-client==1.7.2->gradio) (14.2)\n",
            "Requirement already satisfied: idna>=2.8 in /usr/local/lib/python3.11/dist-packages (from anyio<5.0,>=3.0->gradio) (3.10)\n",
            "Requirement already satisfied: sniffio>=1.1 in /usr/local/lib/python3.11/dist-packages (from anyio<5.0,>=3.0->gradio) (1.3.1)\n",
            "Requirement already satisfied: certifi in /usr/local/lib/python3.11/dist-packages (from httpx>=0.24.1->gradio) (2025.1.31)\n",
            "Requirement already satisfied: httpcore==1.* in /usr/local/lib/python3.11/dist-packages (from httpx>=0.24.1->gradio) (1.0.7)\n",
            "Requirement already satisfied: h11<0.15,>=0.13 in /usr/local/lib/python3.11/dist-packages (from httpcore==1.*->httpx>=0.24.1->gradio) (0.14.0)\n",
            "Requirement already satisfied: filelock in /usr/local/lib/python3.11/dist-packages (from huggingface-hub>=0.28.1->gradio) (3.17.0)\n",
            "Requirement already satisfied: requests in /usr/local/lib/python3.11/dist-packages (from huggingface-hub>=0.28.1->gradio) (2.32.3)\n",
            "Requirement already satisfied: tqdm>=4.42.1 in /usr/local/lib/python3.11/dist-packages (from huggingface-hub>=0.28.1->gradio) (4.67.1)\n",
            "Requirement already satisfied: python-dateutil>=2.8.2 in /usr/local/lib/python3.11/dist-packages (from pandas<3.0,>=1.0->gradio) (2.8.2)\n",
            "Requirement already satisfied: pytz>=2020.1 in /usr/local/lib/python3.11/dist-packages (from pandas<3.0,>=1.0->gradio) (2025.1)\n",
            "Requirement already satisfied: tzdata>=2022.7 in /usr/local/lib/python3.11/dist-packages (from pandas<3.0,>=1.0->gradio) (2025.1)\n",
            "Requirement already satisfied: annotated-types>=0.6.0 in /usr/local/lib/python3.11/dist-packages (from pydantic>=2.0->gradio) (0.7.0)\n",
            "Requirement already satisfied: pydantic-core==2.27.2 in /usr/local/lib/python3.11/dist-packages (from pydantic>=2.0->gradio) (2.27.2)\n",
            "Requirement already satisfied: click>=8.0.0 in /usr/local/lib/python3.11/dist-packages (from typer<1.0,>=0.12->gradio) (8.1.8)\n",
            "Requirement already satisfied: shellingham>=1.3.0 in /usr/local/lib/python3.11/dist-packages (from typer<1.0,>=0.12->gradio) (1.5.4)\n",
            "Requirement already satisfied: rich>=10.11.0 in /usr/local/lib/python3.11/dist-packages (from typer<1.0,>=0.12->gradio) (13.9.4)\n",
            "Requirement already satisfied: six>=1.5 in /usr/local/lib/python3.11/dist-packages (from python-dateutil>=2.8.2->pandas<3.0,>=1.0->gradio) (1.17.0)\n",
            "Requirement already satisfied: markdown-it-py>=2.2.0 in /usr/local/lib/python3.11/dist-packages (from rich>=10.11.0->typer<1.0,>=0.12->gradio) (3.0.0)\n",
            "Requirement already satisfied: pygments<3.0.0,>=2.13.0 in /usr/local/lib/python3.11/dist-packages (from rich>=10.11.0->typer<1.0,>=0.12->gradio) (2.18.0)\n",
            "Requirement already satisfied: charset-normalizer<4,>=2 in /usr/local/lib/python3.11/dist-packages (from requests->huggingface-hub>=0.28.1->gradio) (3.4.1)\n",
            "Requirement already satisfied: urllib3<3,>=1.21.1 in /usr/local/lib/python3.11/dist-packages (from requests->huggingface-hub>=0.28.1->gradio) (2.3.0)\n",
            "Requirement already satisfied: mdurl~=0.1 in /usr/local/lib/python3.11/dist-packages (from markdown-it-py>=2.2.0->rich>=10.11.0->typer<1.0,>=0.12->gradio) (0.1.2)\n",
            "Downloading gradio-5.20.1-py3-none-any.whl (62.3 MB)\n",
            "\u001b[2K   \u001b[90m━━━━━━━━━━━━━━━━━━━━━━━━━━━━━━━━━━━━━━━━\u001b[0m \u001b[32m62.3/62.3 MB\u001b[0m \u001b[31m12.7 MB/s\u001b[0m eta \u001b[36m0:00:00\u001b[0m\n",
            "\u001b[?25hDownloading gradio_client-1.7.2-py3-none-any.whl (322 kB)\n",
            "\u001b[2K   \u001b[90m━━━━━━━━━━━━━━━━━━━━━━━━━━━━━━━━━━━━━━━━\u001b[0m \u001b[32m322.1/322.1 kB\u001b[0m \u001b[31m17.3 MB/s\u001b[0m eta \u001b[36m0:00:00\u001b[0m\n",
            "\u001b[?25hDownloading aiofiles-23.2.1-py3-none-any.whl (15 kB)\n",
            "Downloading fastapi-0.115.11-py3-none-any.whl (94 kB)\n",
            "\u001b[2K   \u001b[90m━━━━━━━━━━━━━━━━━━━━━━━━━━━━━━━━━━━━━━━━\u001b[0m \u001b[32m94.9/94.9 kB\u001b[0m \u001b[31m6.6 MB/s\u001b[0m eta \u001b[36m0:00:00\u001b[0m\n",
            "\u001b[?25hDownloading groovy-0.1.2-py3-none-any.whl (14 kB)\n",
            "Downloading MarkupSafe-2.1.5-cp311-cp311-manylinux_2_17_x86_64.manylinux2014_x86_64.whl (28 kB)\n",
            "Downloading python_multipart-0.0.20-py3-none-any.whl (24 kB)\n",
            "Downloading ruff-0.9.10-py3-none-manylinux_2_17_x86_64.manylinux2014_x86_64.whl (11.3 MB)\n",
            "\u001b[2K   \u001b[90m━━━━━━━━━━━━━━━━━━━━━━━━━━━━━━━━━━━━━━━━\u001b[0m \u001b[32m11.3/11.3 MB\u001b[0m \u001b[31m105.1 MB/s\u001b[0m eta \u001b[36m0:00:00\u001b[0m\n",
            "\u001b[?25hDownloading safehttpx-0.1.6-py3-none-any.whl (8.7 kB)\n",
            "Downloading semantic_version-2.10.0-py2.py3-none-any.whl (15 kB)\n",
            "Downloading starlette-0.46.1-py3-none-any.whl (71 kB)\n",
            "\u001b[2K   \u001b[90m━━━━━━━━━━━━━━━━━━━━━━━━━━━━━━━━━━━━━━━━\u001b[0m \u001b[32m72.0/72.0 kB\u001b[0m \u001b[31m3.8 MB/s\u001b[0m eta \u001b[36m0:00:00\u001b[0m\n",
            "\u001b[?25hDownloading tomlkit-0.13.2-py3-none-any.whl (37 kB)\n",
            "Downloading uvicorn-0.34.0-py3-none-any.whl (62 kB)\n",
            "\u001b[2K   \u001b[90m━━━━━━━━━━━━━━━━━━━━━━━━━━━━━━━━━━━━━━━━\u001b[0m \u001b[32m62.3/62.3 kB\u001b[0m \u001b[31m3.1 MB/s\u001b[0m eta \u001b[36m0:00:00\u001b[0m\n",
            "\u001b[?25hDownloading ffmpy-0.5.0-py3-none-any.whl (6.0 kB)\n",
            "Downloading pydub-0.25.1-py2.py3-none-any.whl (32 kB)\n",
            "Installing collected packages: pydub, uvicorn, tomlkit, semantic-version, ruff, python-multipart, markupsafe, groovy, ffmpy, aiofiles, starlette, safehttpx, gradio-client, fastapi, gradio\n",
            "  Attempting uninstall: markupsafe\n",
            "    Found existing installation: MarkupSafe 3.0.2\n",
            "    Uninstalling MarkupSafe-3.0.2:\n",
            "      Successfully uninstalled MarkupSafe-3.0.2\n",
            "Successfully installed aiofiles-23.2.1 fastapi-0.115.11 ffmpy-0.5.0 gradio-5.20.1 gradio-client-1.7.2 groovy-0.1.2 markupsafe-2.1.5 pydub-0.25.1 python-multipart-0.0.20 ruff-0.9.10 safehttpx-0.1.6 semantic-version-2.10.0 starlette-0.46.1 tomlkit-0.13.2 uvicorn-0.34.0\n"
          ]
        }
      ]
    },
    {
      "cell_type": "code",
      "metadata": {
        "id": "pEq2NFpF0Avf"
      },
      "source": [
        "%matplotlib inline\n",
        "\n",
        "# 標準數據分析、畫圖套件\n",
        "import numpy as np\n",
        "import matplotlib.pyplot as plt\n",
        "from PIL import Image\n",
        "\n",
        "# 神經網路方面\n",
        "import tensorflow as tf\n",
        "from tensorflow.keras.datasets import mnist\n",
        "from tensorflow.keras.utils import to_categorical\n",
        "from tensorflow.keras.models import Sequential\n",
        "from tensorflow.keras.optimizers import SGD\n",
        "from tensorflow.keras.layers import Dense, Dropout\n",
        "\n",
        "# 互動設計用\n",
        "from ipywidgets import interact_manual\n",
        "\n",
        "# 神速打造 web app 的 Gradio\n",
        "import gradio as gr"
      ],
      "execution_count": 3,
      "outputs": []
    },
    {
      "cell_type": "markdown",
      "metadata": {
        "id": "yUOFB_020Avg"
      },
      "source": [
        "## 2. 讀入 MNIST 數據庫\n",
        "\n",
        "\n",
        "MNIST 是有一堆 0-9 的手寫數字圖庫。有 6 萬筆訓練資料, 1 萬筆測試資料。它是 \"Modified\" 版的 NIST 數據庫, 原來的版本有更多資料。這個 Modified 的版本是由 LeCun, Cortes, 及 Burges 等人做的。可以參考這個數據庫的[原始網頁](http://yann.lecun.com/exdb/mnist/)。\n",
        "\n",
        "MNIST 可以說是 Deep Learning 最有名的範例, 它被 Deep Learning 大師 Hinton 稱為「機器學習的果蠅」。"
      ]
    },
    {
      "cell_type": "markdown",
      "metadata": {
        "id": "wVSdolkn0Avg"
      },
      "source": [
        "### 2.1 由 Keras 讀入 MNIST"
      ]
    },
    {
      "cell_type": "markdown",
      "metadata": {
        "id": "b0UEBwg60Avg"
      },
      "source": [
        "Keras 內已設置好MNIST 數據庫, 可以直接讀入"
      ]
    },
    {
      "cell_type": "code",
      "metadata": {
        "id": "LKuZWeVy0Avg",
        "colab": {
          "base_uri": "https://localhost:8080/"
        },
        "outputId": "af8200e7-5b78-4460-e3b6-0caa4cda05ae"
      },
      "source": [
        "(x_train, y_train), (x_test, y_test) = mnist.load_data()"
      ],
      "execution_count": 4,
      "outputs": [
        {
          "output_type": "stream",
          "name": "stdout",
          "text": [
            "Downloading data from https://storage.googleapis.com/tensorflow/tf-keras-datasets/mnist.npz\n",
            "\u001b[1m11490434/11490434\u001b[0m \u001b[32m━━━━━━━━━━━━━━━━━━━━\u001b[0m\u001b[37m\u001b[0m \u001b[1m0s\u001b[0m 0us/step\n"
          ]
        }
      ]
    },
    {
      "cell_type": "markdown",
      "metadata": {
        "id": "fOPj5Mh50Avk"
      },
      "source": [
        "### 2.2 輸入格式整理\n",
        "\n",
        "現在要用標準神經網路學學手寫辨識。原來的每筆數據是個 28x28 的矩陣 (array), 但標準神經網路只吃「平平的」, 也就是每次要 28x28=784 長的向量。因此要用 `reshape` 調校一下。"
      ]
    },
    {
      "cell_type": "code",
      "metadata": {
        "id": "pT7oXt8B0Avk"
      },
      "source": [
        "x_train = x_train.reshape(60000, 784)/255\n",
        "x_test = x_test.reshape(10000, 784)/255"
      ],
      "execution_count": 5,
      "outputs": []
    },
    {
      "cell_type": "markdown",
      "metadata": {
        "id": "mQmajlcm0Avl"
      },
      "source": [
        "### 2.3 輸出格式整理\n",
        "![Jupyter 工作室 拷貝.001.jpeg](data:image/jpeg;base64,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)\n",
        "\n",
        "可能會想, 想學的函數是這樣的型式:\n",
        "\n",
        "$$\\hat{f} \\colon \\mathbb{R}^{784} \\to \\mathbb{R}$$\n",
        "\n",
        "其實這樣不太好! 為什麼呢? 比如說輸入 x 是一張 0 的圖, 因為訓練的神經網路總會有點誤差, 所以可能會得到:\n",
        "\n",
        "$$\\hat{f}(x) = 0.5$$\n",
        "\n",
        "那這意思是有可能是 0, 也有可能是 1 嗎!!?? 可是 0 和 1 根本不像。換句話說分類的問題這樣做其實不合理!\n",
        "\n",
        "於是會做 \"1-hot enconding\", 也就是\n",
        "\n",
        "* 1 -> [0, 1, 0, 0, 0, 0, 0, 0, 0]\n",
        "* 5 -> [0, 0, 0, 0, 0, 1, 0, 0, 0]\n",
        "\n"
      ]
    },
    {
      "cell_type": "code",
      "metadata": {
        "id": "_i22oLVf0Avl"
      },
      "source": [
        "y_train = to_categorical(y_train, 10)\n",
        "y_test = to_categorical(y_test, 10)"
      ],
      "execution_count": 6,
      "outputs": []
    },
    {
      "cell_type": "markdown",
      "metadata": {
        "id": "m41UZZdF0Avm"
      },
      "source": [
        "## 3 建構神經網路\n",
        "\n",
        "和以前做迴歸或機器學習一樣, 我們就打開個「函數學習機」。標準一層一層傳遞的神經網路叫 `Sequential`, 於是打開一個空的神經網路。"
      ]
    },
    {
      "cell_type": "code",
      "metadata": {
        "id": "F_fx6jw80Avm"
      },
      "source": [
        "model = Sequential()"
      ],
      "execution_count": 7,
      "outputs": []
    },
    {
      "cell_type": "markdown",
      "metadata": {
        "id": "tm9L8SfT0Avn"
      },
      "source": [
        "每次用 `add` 去加一層, 從第一個隱藏層開始。而第一個隱藏層因為 TensorFlow 當然猜不到輸入有 784 個 features, 所以要告訴它。"
      ]
    },
    {
      "cell_type": "code",
      "metadata": {
        "id": "wrBnZ3Xw0Avn",
        "colab": {
          "base_uri": "https://localhost:8080/"
        },
        "outputId": "9b0068ec-706f-4292-a5dd-0aabb42f1f4f"
      },
      "source": [
        "# model.add(Dense(N1, input_dim=784, activation='relu'))\n",
        "model.add(Dense(N1, input_dim=784, activation='gelu'))"
      ],
      "execution_count": 8,
      "outputs": [
        {
          "output_type": "stream",
          "name": "stderr",
          "text": [
            "/usr/local/lib/python3.11/dist-packages/keras/src/layers/core/dense.py:87: UserWarning: Do not pass an `input_shape`/`input_dim` argument to a layer. When using Sequential models, prefer using an `Input(shape)` object as the first layer in the model instead.\n",
            "  super().__init__(activity_regularizer=activity_regularizer, **kwargs)\n"
          ]
        }
      ]
    },
    {
      "cell_type": "markdown",
      "metadata": {
        "id": "sbcJBOtk0Avn"
      },
      "source": [
        "第二層開始就不用再說明輸入神經元個數 (因為就是前一層神經元數)。"
      ]
    },
    {
      "cell_type": "code",
      "metadata": {
        "id": "4UtBjkQh0Avn"
      },
      "source": [
        "# model.add(Dropout(0.2))\n",
        "# model.add(Dense(N2, activation='relu'))\n",
        "model.add(Dense(N2, activation='gelu'))"
      ],
      "execution_count": 9,
      "outputs": []
    },
    {
      "cell_type": "code",
      "metadata": {
        "id": "v3pVDFVR0Avn"
      },
      "source": [
        "# model.add(Dropout(0.2))\n",
        "# model.add(Dense(N3, activation='relu'))\n",
        "model.add(Dense(N3, activation='gelu'))"
      ],
      "execution_count": 10,
      "outputs": []
    },
    {
      "cell_type": "code",
      "source": [
        "# model.add(Dropout(0.2))\n",
        "# model.add(Dense(N4, activation='relu'))\n",
        "model.add(Dense(N4, activation='gelu'))"
      ],
      "metadata": {
        "id": "CfczKnSFqrzk"
      },
      "execution_count": 11,
      "outputs": []
    },
    {
      "cell_type": "code",
      "source": [
        "# model.add(Dense(N5, activation='relu'))\n",
        "model.add(Dense(N5, activation='gelu'))"
      ],
      "metadata": {
        "id": "r2Yyu9s-quR_"
      },
      "execution_count": 12,
      "outputs": []
    },
    {
      "cell_type": "code",
      "metadata": {
        "id": "H6P7C6Nk0Avo"
      },
      "source": [
        "model.add(Dense(N6, activation='softmax'))"
      ],
      "execution_count": 13,
      "outputs": []
    },
    {
      "cell_type": "markdown",
      "source": [
        "### 神經網路架構嘗試歷程：\n",
        "- 激發函數嘗試使用過Relu 、 Gelu\n",
        "- 嘗試在各層神經元中間加上Dropout技術\n",
        "- 模型loss function嘗試過MSE 、Cross Entrophy\n",
        "#### 最終經過多次測試後，最終模型架構決定使用Gelu作為激發函數，不使用Dropout技術，loss function則採用 Cross Entrophy，此種架構訓練出的模型準確率最佳。"
      ],
      "metadata": {
        "id": "3rAWFljNzyFp"
      }
    },
    {
      "cell_type": "markdown",
      "metadata": {
        "id": "5znBU0DV0Avo"
      },
      "source": [
        "\n",
        "\n",
        "\n",
        "\n",
        "為了一邊訓練一邊看到結果, 加設\n",
        "\n",
        "    metrics=['accuracy']\n",
        "    \n",
        "本行基本上和神經網路功能沒有什麼關係。"
      ]
    },
    {
      "cell_type": "code",
      "metadata": {
        "id": "lGLgh8Gz0Avo"
      },
      "source": [
        "model.compile(loss='categorical_crossentropy', optimizer=SGD(learning_rate=0.05), metrics=['accuracy'])"
      ],
      "execution_count": 14,
      "outputs": []
    },
    {
      "cell_type": "markdown",
      "metadata": {
        "id": "xf9ykvbJ0Avo"
      },
      "source": [
        "## 4. 檢視神經網路"
      ]
    },
    {
      "cell_type": "markdown",
      "metadata": {
        "id": "kV3613iy0Avp"
      },
      "source": [
        "### 4.1 看 model 的 summary"
      ]
    },
    {
      "cell_type": "code",
      "metadata": {
        "colab": {
          "base_uri": "https://localhost:8080/",
          "height": 334
        },
        "id": "0yJJowZE0Avp",
        "outputId": "4c8bd459-55fa-4c33-ff0a-ed1b2cb0a505"
      },
      "source": [
        "model.summary()"
      ],
      "execution_count": 15,
      "outputs": [
        {
          "output_type": "display_data",
          "data": {
            "text/plain": [
              "\u001b[1mModel: \"sequential\"\u001b[0m\n"
            ],
            "text/html": [
              "<pre style=\"white-space:pre;overflow-x:auto;line-height:normal;font-family:Menlo,'DejaVu Sans Mono',consolas,'Courier New',monospace\"><span style=\"font-weight: bold\">Model: \"sequential\"</span>\n",
              "</pre>\n"
            ]
          },
          "metadata": {}
        },
        {
          "output_type": "display_data",
          "data": {
            "text/plain": [
              "┏━━━━━━━━━━━━━━━━━━━━━━━━━━━━━━━━━━━━━━┳━━━━━━━━━━━━━━━━━━━━━━━━━━━━━┳━━━━━━━━━━━━━━━━━┓\n",
              "┃\u001b[1m \u001b[0m\u001b[1mLayer (type)                        \u001b[0m\u001b[1m \u001b[0m┃\u001b[1m \u001b[0m\u001b[1mOutput Shape               \u001b[0m\u001b[1m \u001b[0m┃\u001b[1m \u001b[0m\u001b[1m        Param #\u001b[0m\u001b[1m \u001b[0m┃\n",
              "┡━━━━━━━━━━━━━━━━━━━━━━━━━━━━━━━━━━━━━━╇━━━━━━━━━━━━━━━━━━━━━━━━━━━━━╇━━━━━━━━━━━━━━━━━┩\n",
              "│ dense (\u001b[38;5;33mDense\u001b[0m)                        │ (\u001b[38;5;45mNone\u001b[0m, \u001b[38;5;34m30\u001b[0m)                  │          \u001b[38;5;34m23,550\u001b[0m │\n",
              "├──────────────────────────────────────┼─────────────────────────────┼─────────────────┤\n",
              "│ dense_1 (\u001b[38;5;33mDense\u001b[0m)                      │ (\u001b[38;5;45mNone\u001b[0m, \u001b[38;5;34m20\u001b[0m)                  │             \u001b[38;5;34m620\u001b[0m │\n",
              "├──────────────────────────────────────┼─────────────────────────────┼─────────────────┤\n",
              "│ dense_2 (\u001b[38;5;33mDense\u001b[0m)                      │ (\u001b[38;5;45mNone\u001b[0m, \u001b[38;5;34m10\u001b[0m)                  │             \u001b[38;5;34m210\u001b[0m │\n",
              "├──────────────────────────────────────┼─────────────────────────────┼─────────────────┤\n",
              "│ dense_3 (\u001b[38;5;33mDense\u001b[0m)                      │ (\u001b[38;5;45mNone\u001b[0m, \u001b[38;5;34m20\u001b[0m)                  │             \u001b[38;5;34m220\u001b[0m │\n",
              "├──────────────────────────────────────┼─────────────────────────────┼─────────────────┤\n",
              "│ dense_4 (\u001b[38;5;33mDense\u001b[0m)                      │ (\u001b[38;5;45mNone\u001b[0m, \u001b[38;5;34m30\u001b[0m)                  │             \u001b[38;5;34m630\u001b[0m │\n",
              "├──────────────────────────────────────┼─────────────────────────────┼─────────────────┤\n",
              "│ dense_5 (\u001b[38;5;33mDense\u001b[0m)                      │ (\u001b[38;5;45mNone\u001b[0m, \u001b[38;5;34m10\u001b[0m)                  │             \u001b[38;5;34m310\u001b[0m │\n",
              "└──────────────────────────────────────┴─────────────────────────────┴─────────────────┘\n"
            ],
            "text/html": [
              "<pre style=\"white-space:pre;overflow-x:auto;line-height:normal;font-family:Menlo,'DejaVu Sans Mono',consolas,'Courier New',monospace\">┏━━━━━━━━━━━━━━━━━━━━━━━━━━━━━━━━━━━━━━┳━━━━━━━━━━━━━━━━━━━━━━━━━━━━━┳━━━━━━━━━━━━━━━━━┓\n",
              "┃<span style=\"font-weight: bold\"> Layer (type)                         </span>┃<span style=\"font-weight: bold\"> Output Shape                </span>┃<span style=\"font-weight: bold\">         Param # </span>┃\n",
              "┡━━━━━━━━━━━━━━━━━━━━━━━━━━━━━━━━━━━━━━╇━━━━━━━━━━━━━━━━━━━━━━━━━━━━━╇━━━━━━━━━━━━━━━━━┩\n",
              "│ dense (<span style=\"color: #0087ff; text-decoration-color: #0087ff\">Dense</span>)                        │ (<span style=\"color: #00d7ff; text-decoration-color: #00d7ff\">None</span>, <span style=\"color: #00af00; text-decoration-color: #00af00\">30</span>)                  │          <span style=\"color: #00af00; text-decoration-color: #00af00\">23,550</span> │\n",
              "├──────────────────────────────────────┼─────────────────────────────┼─────────────────┤\n",
              "│ dense_1 (<span style=\"color: #0087ff; text-decoration-color: #0087ff\">Dense</span>)                      │ (<span style=\"color: #00d7ff; text-decoration-color: #00d7ff\">None</span>, <span style=\"color: #00af00; text-decoration-color: #00af00\">20</span>)                  │             <span style=\"color: #00af00; text-decoration-color: #00af00\">620</span> │\n",
              "├──────────────────────────────────────┼─────────────────────────────┼─────────────────┤\n",
              "│ dense_2 (<span style=\"color: #0087ff; text-decoration-color: #0087ff\">Dense</span>)                      │ (<span style=\"color: #00d7ff; text-decoration-color: #00d7ff\">None</span>, <span style=\"color: #00af00; text-decoration-color: #00af00\">10</span>)                  │             <span style=\"color: #00af00; text-decoration-color: #00af00\">210</span> │\n",
              "├──────────────────────────────────────┼─────────────────────────────┼─────────────────┤\n",
              "│ dense_3 (<span style=\"color: #0087ff; text-decoration-color: #0087ff\">Dense</span>)                      │ (<span style=\"color: #00d7ff; text-decoration-color: #00d7ff\">None</span>, <span style=\"color: #00af00; text-decoration-color: #00af00\">20</span>)                  │             <span style=\"color: #00af00; text-decoration-color: #00af00\">220</span> │\n",
              "├──────────────────────────────────────┼─────────────────────────────┼─────────────────┤\n",
              "│ dense_4 (<span style=\"color: #0087ff; text-decoration-color: #0087ff\">Dense</span>)                      │ (<span style=\"color: #00d7ff; text-decoration-color: #00d7ff\">None</span>, <span style=\"color: #00af00; text-decoration-color: #00af00\">30</span>)                  │             <span style=\"color: #00af00; text-decoration-color: #00af00\">630</span> │\n",
              "├──────────────────────────────────────┼─────────────────────────────┼─────────────────┤\n",
              "│ dense_5 (<span style=\"color: #0087ff; text-decoration-color: #0087ff\">Dense</span>)                      │ (<span style=\"color: #00d7ff; text-decoration-color: #00d7ff\">None</span>, <span style=\"color: #00af00; text-decoration-color: #00af00\">10</span>)                  │             <span style=\"color: #00af00; text-decoration-color: #00af00\">310</span> │\n",
              "└──────────────────────────────────────┴─────────────────────────────┴─────────────────┘\n",
              "</pre>\n"
            ]
          },
          "metadata": {}
        },
        {
          "output_type": "display_data",
          "data": {
            "text/plain": [
              "\u001b[1m Total params: \u001b[0m\u001b[38;5;34m25,540\u001b[0m (99.77 KB)\n"
            ],
            "text/html": [
              "<pre style=\"white-space:pre;overflow-x:auto;line-height:normal;font-family:Menlo,'DejaVu Sans Mono',consolas,'Courier New',monospace\"><span style=\"font-weight: bold\"> Total params: </span><span style=\"color: #00af00; text-decoration-color: #00af00\">25,540</span> (99.77 KB)\n",
              "</pre>\n"
            ]
          },
          "metadata": {}
        },
        {
          "output_type": "display_data",
          "data": {
            "text/plain": [
              "\u001b[1m Trainable params: \u001b[0m\u001b[38;5;34m25,540\u001b[0m (99.77 KB)\n"
            ],
            "text/html": [
              "<pre style=\"white-space:pre;overflow-x:auto;line-height:normal;font-family:Menlo,'DejaVu Sans Mono',consolas,'Courier New',monospace\"><span style=\"font-weight: bold\"> Trainable params: </span><span style=\"color: #00af00; text-decoration-color: #00af00\">25,540</span> (99.77 KB)\n",
              "</pre>\n"
            ]
          },
          "metadata": {}
        },
        {
          "output_type": "display_data",
          "data": {
            "text/plain": [
              "\u001b[1m Non-trainable params: \u001b[0m\u001b[38;5;34m0\u001b[0m (0.00 B)\n"
            ],
            "text/html": [
              "<pre style=\"white-space:pre;overflow-x:auto;line-height:normal;font-family:Menlo,'DejaVu Sans Mono',consolas,'Courier New',monospace\"><span style=\"font-weight: bold\"> Non-trainable params: </span><span style=\"color: #00af00; text-decoration-color: #00af00\">0</span> (0.00 B)\n",
              "</pre>\n"
            ]
          },
          "metadata": {}
        }
      ]
    },
    {
      "cell_type": "markdown",
      "metadata": {
        "id": "R5VHPpfd0Avp"
      },
      "source": [
        "## 5. 訓練第一個神經網路\n",
        "\n",
        "\n",
        "* 一次要訓練幾筆資料 (`batch_size`),  100 筆調一次參數\n",
        "* 這 6 萬筆資料一共要訓練幾次 (`epochs`), 訓練 10 次\n",
        "\n"
      ]
    },
    {
      "cell_type": "code",
      "metadata": {
        "colab": {
          "base_uri": "https://localhost:8080/"
        },
        "id": "1jwuUx4a0Avq",
        "outputId": "ffb031f5-195e-4c75-c192-8119b904a167"
      },
      "source": [
        "model.fit(x_train, y_train, batch_size=100, epochs=10)"
      ],
      "execution_count": 16,
      "outputs": [
        {
          "output_type": "stream",
          "name": "stdout",
          "text": [
            "Epoch 1/10\n",
            "\u001b[1m600/600\u001b[0m \u001b[32m━━━━━━━━━━━━━━━━━━━━\u001b[0m\u001b[37m\u001b[0m \u001b[1m3s\u001b[0m 2ms/step - accuracy: 0.3536 - loss: 1.8582\n",
            "Epoch 2/10\n",
            "\u001b[1m600/600\u001b[0m \u001b[32m━━━━━━━━━━━━━━━━━━━━\u001b[0m\u001b[37m\u001b[0m \u001b[1m1s\u001b[0m 2ms/step - accuracy: 0.8974 - loss: 0.3437\n",
            "Epoch 3/10\n",
            "\u001b[1m600/600\u001b[0m \u001b[32m━━━━━━━━━━━━━━━━━━━━\u001b[0m\u001b[37m\u001b[0m \u001b[1m1s\u001b[0m 2ms/step - accuracy: 0.9337 - loss: 0.2241\n",
            "Epoch 4/10\n",
            "\u001b[1m600/600\u001b[0m \u001b[32m━━━━━━━━━━━━━━━━━━━━\u001b[0m\u001b[37m\u001b[0m \u001b[1m1s\u001b[0m 2ms/step - accuracy: 0.9484 - loss: 0.1766\n",
            "Epoch 5/10\n",
            "\u001b[1m600/600\u001b[0m \u001b[32m━━━━━━━━━━━━━━━━━━━━\u001b[0m\u001b[37m\u001b[0m \u001b[1m1s\u001b[0m 2ms/step - accuracy: 0.9538 - loss: 0.1538\n",
            "Epoch 6/10\n",
            "\u001b[1m600/600\u001b[0m \u001b[32m━━━━━━━━━━━━━━━━━━━━\u001b[0m\u001b[37m\u001b[0m \u001b[1m2s\u001b[0m 3ms/step - accuracy: 0.9607 - loss: 0.1354\n",
            "Epoch 7/10\n",
            "\u001b[1m600/600\u001b[0m \u001b[32m━━━━━━━━━━━━━━━━━━━━\u001b[0m\u001b[37m\u001b[0m \u001b[1m2s\u001b[0m 2ms/step - accuracy: 0.9647 - loss: 0.1219\n",
            "Epoch 8/10\n",
            "\u001b[1m600/600\u001b[0m \u001b[32m━━━━━━━━━━━━━━━━━━━━\u001b[0m\u001b[37m\u001b[0m \u001b[1m3s\u001b[0m 2ms/step - accuracy: 0.9671 - loss: 0.1092\n",
            "Epoch 9/10\n",
            "\u001b[1m600/600\u001b[0m \u001b[32m━━━━━━━━━━━━━━━━━━━━\u001b[0m\u001b[37m\u001b[0m \u001b[1m3s\u001b[0m 2ms/step - accuracy: 0.9698 - loss: 0.1032\n",
            "Epoch 10/10\n",
            "\u001b[1m600/600\u001b[0m \u001b[32m━━━━━━━━━━━━━━━━━━━━\u001b[0m\u001b[37m\u001b[0m \u001b[1m3s\u001b[0m 2ms/step - accuracy: 0.9717 - loss: 0.0941\n"
          ]
        },
        {
          "output_type": "execute_result",
          "data": {
            "text/plain": [
              "<keras.src.callbacks.history.History at 0x78c514988fd0>"
            ]
          },
          "metadata": {},
          "execution_count": 16
        }
      ]
    },
    {
      "cell_type": "markdown",
      "metadata": {
        "id": "-6ykAvga0Avq"
      },
      "source": [
        "## 6. 試用結果\n"
      ]
    },
    {
      "cell_type": "code",
      "metadata": {
        "colab": {
          "base_uri": "https://localhost:8080/"
        },
        "id": "I9c1E_Cj0Avq",
        "outputId": "d8a1323f-8388-4ad3-df59-d740f557b725"
      },
      "source": [
        "loss, acc = model.evaluate(x_test, y_test)"
      ],
      "execution_count": 17,
      "outputs": [
        {
          "output_type": "stream",
          "name": "stdout",
          "text": [
            "\u001b[1m313/313\u001b[0m \u001b[32m━━━━━━━━━━━━━━━━━━━━\u001b[0m\u001b[37m\u001b[0m \u001b[1m2s\u001b[0m 5ms/step - accuracy: 0.9572 - loss: 0.1416\n"
          ]
        }
      ]
    },
    {
      "cell_type": "code",
      "metadata": {
        "colab": {
          "base_uri": "https://localhost:8080/"
        },
        "id": "Z5XOR_Pd0Avq",
        "outputId": "babe2d91-6437-4b20-907e-681b47edda0e"
      },
      "source": [
        "print(f\"測試資料正確率 {acc*100:.2f}%\")"
      ],
      "execution_count": 18,
      "outputs": [
        {
          "output_type": "stream",
          "name": "stdout",
          "text": [
            "測試資料正確率 96.29%\n"
          ]
        }
      ]
    },
    {
      "cell_type": "markdown",
      "metadata": {
        "id": "XTog-oR90Avr"
      },
      "source": [
        "\"predict\" 放的是神經網路的學習結果。做完之後用 argmax 找到數值最大的那一項。"
      ]
    },
    {
      "cell_type": "code",
      "metadata": {
        "id": "6MlKktZ50Avr",
        "colab": {
          "base_uri": "https://localhost:8080/"
        },
        "outputId": "321d2af5-ee7b-4a88-fe44-52e38c3ed0cc"
      },
      "source": [
        "predict = np.argmax(model.predict(x_test), axis=-1)"
      ],
      "execution_count": 19,
      "outputs": [
        {
          "output_type": "stream",
          "name": "stdout",
          "text": [
            "\u001b[1m313/313\u001b[0m \u001b[32m━━━━━━━━━━━━━━━━━━━━\u001b[0m\u001b[37m\u001b[0m \u001b[1m1s\u001b[0m 4ms/step\n"
          ]
        }
      ]
    },
    {
      "cell_type": "code",
      "metadata": {
        "colab": {
          "base_uri": "https://localhost:8080/"
        },
        "id": "9R_o6HD_0Avr",
        "outputId": "d922f0c2-dd8c-46d0-c8a7-3c43ba528bfd"
      },
      "source": [
        "predict"
      ],
      "execution_count": 20,
      "outputs": [
        {
          "output_type": "execute_result",
          "data": {
            "text/plain": [
              "array([7, 2, 1, ..., 4, 5, 6])"
            ]
          },
          "metadata": {},
          "execution_count": 20
        }
      ]
    },
    {
      "cell_type": "markdown",
      "metadata": {
        "id": "2RX6YjUj0Avr"
      },
      "source": [
        "因先前`x_test` 每筆資料已經換成 784 維的向量, 需轉換回 28x28 的矩陣才能當成圖形顯示出"
      ]
    },
    {
      "cell_type": "code",
      "metadata": {
        "id": "v5i4Cxpo0Avs"
      },
      "source": [
        "def test(測試編號):\n",
        "    plt.imshow(x_test[測試編號].reshape(28,28), cmap='Greys')\n",
        "    print('神經網路判斷為:', predict[測試編號])"
      ],
      "execution_count": 21,
      "outputs": []
    },
    {
      "cell_type": "code",
      "metadata": {
        "colab": {
          "base_uri": "https://localhost:8080/",
          "height": 511,
          "referenced_widgets": [
            "c7b16a503d0d42a3a095e06e11121ac9",
            "57718872145141ab81e4559f4b345dfe",
            "00c1b000541b4bc29adacf484c6dd30d",
            "0512dff409954a2fac29804675fe3062",
            "c41400bcad344af499b4a1be648aa016",
            "3b3806c527874ec09c2f73d75ebc34d5",
            "60a4c2526a0e46f8a482b64a89e32b63",
            "7c5b9f8c2c0c4cb1b0330043f9c7725d",
            "c5f2f67221014b53aebac96cd9ce9f42",
            "9eca344e731c472b90550ecff64dfa6e"
          ]
        },
        "id": "-KT1EFNc0Avs",
        "outputId": "238f355c-4697-4520-d3cf-d0971bfcaacd"
      },
      "source": [
        "interact_manual(test, 測試編號=(0, 9999));"
      ],
      "execution_count": 23,
      "outputs": [
        {
          "output_type": "display_data",
          "data": {
            "text/plain": [
              "interactive(children=(IntSlider(value=4999, description='測試編號', max=9999), Button(description='Run Interact', …"
            ],
            "application/vnd.jupyter.widget-view+json": {
              "version_major": 2,
              "version_minor": 0,
              "model_id": "c7b16a503d0d42a3a095e06e11121ac9"
            }
          },
          "metadata": {}
        }
      ]
    },
    {
      "cell_type": "markdown",
      "metadata": {
        "id": "8JjaNcvN0Avs"
      },
      "source": [
        "神經網路「總評量」分數"
      ]
    },
    {
      "cell_type": "code",
      "metadata": {
        "colab": {
          "base_uri": "https://localhost:8080/"
        },
        "id": "cpilhXP00Avs",
        "outputId": "01e82f60-fb1c-4ebe-863e-b917df0eddfb"
      },
      "source": [
        "score = model.evaluate(x_test, y_test)"
      ],
      "execution_count": 24,
      "outputs": [
        {
          "output_type": "stream",
          "name": "stdout",
          "text": [
            "\u001b[1m313/313\u001b[0m \u001b[32m━━━━━━━━━━━━━━━━━━━━\u001b[0m\u001b[37m\u001b[0m \u001b[1m1s\u001b[0m 2ms/step - accuracy: 0.9572 - loss: 0.1416\n"
          ]
        }
      ]
    },
    {
      "cell_type": "code",
      "metadata": {
        "colab": {
          "base_uri": "https://localhost:8080/"
        },
        "id": "GTtgPGrF0Avt",
        "outputId": "212acf28-8fd7-4fbb-bac7-62e9ad298919"
      },
      "source": [
        "print('loss:', score[0])\n",
        "print('正確率', score[1])"
      ],
      "execution_count": 25,
      "outputs": [
        {
          "output_type": "stream",
          "name": "stdout",
          "text": [
            "loss: 0.12183913588523865\n",
            "正確率 0.9628999829292297\n"
          ]
        }
      ]
    },
    {
      "cell_type": "markdown",
      "metadata": {
        "id": "FWK0fgKgCHa7"
      },
      "source": [
        "### 7. 用 Gradio 來展示"
      ]
    },
    {
      "cell_type": "code",
      "source": [
        "def resize_image(inp):\n",
        "    # 圖在 inp[\"layers\"][0]\n",
        "    image = np.array(inp[\"layers\"][0], dtype=np.float32)\n",
        "    image = image.astype(np.uint8)\n",
        "\n",
        "    # 轉成 PIL 格式\n",
        "    image_pil = Image.fromarray(image)\n",
        "\n",
        "    # Alpha 通道設為白色, 再把圖從 RGBA 轉成 RGB\n",
        "    background = Image.new(\"RGB\", image_pil.size, (255, 255, 255))\n",
        "    background.paste(image_pil, mask=image_pil.split()[3]) # 把圖片粘貼到白色背景上，使用透明通道作為遮罩\n",
        "    image_pil = background\n",
        "\n",
        "    # 轉換為灰階圖像\n",
        "    image_gray = image_pil.convert(\"L\")\n",
        "\n",
        "    # 將灰階圖像縮放到 28x28, 轉回 numpy array\n",
        "    img_array = np.array(image_gray.resize((28, 28), resample=Image.LANCZOS))\n",
        "\n",
        "    # 配合 MNIST 數據集\n",
        "    img_array = 255 - img_array\n",
        "\n",
        "    # 拉平並縮放\n",
        "    img_array = img_array.reshape(1, 784) / 255.0\n",
        "\n",
        "    return img_array"
      ],
      "metadata": {
        "id": "YCDldfE4eVh6"
      },
      "execution_count": 26,
      "outputs": []
    },
    {
      "cell_type": "code",
      "source": [
        "def recognize_digit(inp):\n",
        "    img_array = resize_image(inp)\n",
        "    prediction = model.predict(img_array).flatten()\n",
        "    labels = list('0123456789')\n",
        "    return {labels[i]: float(prediction[i]) for i in range(10)}"
      ],
      "metadata": {
        "id": "QUejwCO9S7R4"
      },
      "execution_count": 27,
      "outputs": []
    },
    {
      "cell_type": "code",
      "metadata": {
        "id": "ITOFueb5KSBD",
        "colab": {
          "base_uri": "https://localhost:8080/",
          "height": 888
        },
        "outputId": "db3ef620-e449-45ed-ca14-d7e8aa8c3c22"
      },
      "source": [
        "iface = gr.Interface(\n",
        "    fn=recognize_digit,\n",
        "    inputs=gr.Sketchpad(),\n",
        "    outputs=gr.Label(num_top_classes=3),\n",
        "    title=\"MNIST 手寫辨識\",\n",
        "    description=\"請在畫板上繪製數字\"\n",
        ")\n",
        "\n",
        "iface.launch(share=True, debug=True)"
      ],
      "execution_count": null,
      "outputs": [
        {
          "output_type": "stream",
          "name": "stdout",
          "text": [
            "Colab notebook detected. This cell will run indefinitely so that you can see errors and logs. To turn off, set debug=False in launch().\n",
            "* Running on public URL: https://9f5cd738aaad059adc.gradio.live\n",
            "\n",
            "This share link expires in 72 hours. For free permanent hosting and GPU upgrades, run `gradio deploy` from the terminal in the working directory to deploy to Hugging Face Spaces (https://huggingface.co/spaces)\n"
          ]
        },
        {
          "output_type": "display_data",
          "data": {
            "text/plain": [
              "<IPython.core.display.HTML object>"
            ],
            "text/html": [
              "<div><iframe src=\"https://9f5cd738aaad059adc.gradio.live\" width=\"100%\" height=\"500\" allow=\"autoplay; camera; microphone; clipboard-read; clipboard-write;\" frameborder=\"0\" allowfullscreen></iframe></div>"
            ]
          },
          "metadata": {}
        },
        {
          "output_type": "stream",
          "name": "stdout",
          "text": [
            "\u001b[1m1/1\u001b[0m \u001b[32m━━━━━━━━━━━━━━━━━━━━\u001b[0m\u001b[37m\u001b[0m \u001b[1m0s\u001b[0m 301ms/step\n",
            "\u001b[1m1/1\u001b[0m \u001b[32m━━━━━━━━━━━━━━━━━━━━\u001b[0m\u001b[37m\u001b[0m \u001b[1m0s\u001b[0m 30ms/step\n",
            "\u001b[1m1/1\u001b[0m \u001b[32m━━━━━━━━━━━━━━━━━━━━\u001b[0m\u001b[37m\u001b[0m \u001b[1m0s\u001b[0m 29ms/step\n",
            "\u001b[1m1/1\u001b[0m \u001b[32m━━━━━━━━━━━━━━━━━━━━\u001b[0m\u001b[37m\u001b[0m \u001b[1m0s\u001b[0m 28ms/step\n",
            "\u001b[1m1/1\u001b[0m \u001b[32m━━━━━━━━━━━━━━━━━━━━\u001b[0m\u001b[37m\u001b[0m \u001b[1m0s\u001b[0m 30ms/step\n",
            "\u001b[1m1/1\u001b[0m \u001b[32m━━━━━━━━━━━━━━━━━━━━\u001b[0m\u001b[37m\u001b[0m \u001b[1m0s\u001b[0m 28ms/step\n",
            "\u001b[1m1/1\u001b[0m \u001b[32m━━━━━━━━━━━━━━━━━━━━\u001b[0m\u001b[37m\u001b[0m \u001b[1m0s\u001b[0m 28ms/step\n",
            "\u001b[1m1/1\u001b[0m \u001b[32m━━━━━━━━━━━━━━━━━━━━\u001b[0m\u001b[37m\u001b[0m \u001b[1m0s\u001b[0m 27ms/step\n",
            "\u001b[1m1/1\u001b[0m \u001b[32m━━━━━━━━━━━━━━━━━━━━\u001b[0m\u001b[37m\u001b[0m \u001b[1m0s\u001b[0m 28ms/step\n",
            "\u001b[1m1/1\u001b[0m \u001b[32m━━━━━━━━━━━━━━━━━━━━\u001b[0m\u001b[37m\u001b[0m \u001b[1m0s\u001b[0m 27ms/step\n",
            "\u001b[1m1/1\u001b[0m \u001b[32m━━━━━━━━━━━━━━━━━━━━\u001b[0m\u001b[37m\u001b[0m \u001b[1m0s\u001b[0m 43ms/step\n",
            "\u001b[1m1/1\u001b[0m \u001b[32m━━━━━━━━━━━━━━━━━━━━\u001b[0m\u001b[37m\u001b[0m \u001b[1m0s\u001b[0m 30ms/step\n",
            "\u001b[1m1/1\u001b[0m \u001b[32m━━━━━━━━━━━━━━━━━━━━\u001b[0m\u001b[37m\u001b[0m \u001b[1m0s\u001b[0m 28ms/step\n",
            "\u001b[1m1/1\u001b[0m \u001b[32m━━━━━━━━━━━━━━━━━━━━\u001b[0m\u001b[37m\u001b[0m \u001b[1m0s\u001b[0m 28ms/step\n",
            "\u001b[1m1/1\u001b[0m \u001b[32m━━━━━━━━━━━━━━━━━━━━\u001b[0m\u001b[37m\u001b[0m \u001b[1m0s\u001b[0m 35ms/step\n",
            "\u001b[1m1/1\u001b[0m \u001b[32m━━━━━━━━━━━━━━━━━━━━\u001b[0m\u001b[37m\u001b[0m \u001b[1m0s\u001b[0m 30ms/step\n"
          ]
        }
      ]
    },
    {
      "cell_type": "code",
      "source": [],
      "metadata": {
        "id": "hV1C6LCVFEqf"
      },
      "execution_count": null,
      "outputs": []
    }
  ]
}